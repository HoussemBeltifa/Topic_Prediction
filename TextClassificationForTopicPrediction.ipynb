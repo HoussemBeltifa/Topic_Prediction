{
  "cells": [
    {
      "cell_type": "code",
      "execution_count": null,
      "metadata": {
        "id": "-unLVAy3TXPf"
      },
      "outputs": [],
      "source": [
        "import torch\n",
        "from torch import nn\n",
        "from torch.utils.data import DataLoader\n",
        "from torchvision import datasets, transforms"
      ]
    },
    {
      "cell_type": "code",
      "execution_count": null,
      "metadata": {
        "colab": {
          "base_uri": "https://localhost:8080/",
          "height": 36
        },
        "id": "j0ES0iSeUNLY",
        "outputId": "afe1b21d-abb6-4d47-8c3c-6500c1228a4c"
      },
      "outputs": [
        {
          "output_type": "execute_result",
          "data": {
            "text/plain": [
              "'cpu'"
            ],
            "application/vnd.google.colaboratory.intrinsic+json": {
              "type": "string"
            }
          },
          "metadata": {},
          "execution_count": 50
        }
      ],
      "source": [
        "# Setup device-agnostic code\n",
        "device = \"cuda\" if torch.cuda.is_available() else \"cpu\"\n",
        "device"
      ]
    },
    {
      "cell_type": "code",
      "execution_count": null,
      "metadata": {
        "colab": {
          "base_uri": "https://localhost:8080/"
        },
        "id": "Cp3esFJYURAZ",
        "outputId": "7aa2780e-563a-4dce-8bfc-6c3dd9d24abc"
      },
      "outputs": [
        {
          "output_type": "stream",
          "name": "stdout",
          "text": [
            "data/bbc directory exists.\n"
          ]
        }
      ],
      "source": [
        "from pathlib import Path\n",
        "import zipfile\n",
        "import requests\n",
        "\n",
        "data_path = Path(\"data/\")\n",
        "text_path = data_path / \"bbc\"\n",
        "if text_path.is_dir():\n",
        "    print(f\"{text_path} directory exists.\")\n",
        "else:\n",
        "    print(f\"Did not find {text_path} directory, creating one...\")\n",
        "    text_path.mkdir(parents=True, exist_ok=True)\n",
        "\n",
        "    with open(data_path / \"bbc.zip\", \"wb\") as f:\n",
        "        request = requests.get(\"https://github.com/HoussemBeltifa/Topic_Prediction/raw/main/bbc.zip\")\n",
        "        print(\"Downloading data...\")\n",
        "        f.write(request.content)\n",
        "\n",
        "    with zipfile.ZipFile(data_path / \"bbc.zip\", \"r\") as zip_ref:\n",
        "        print(\"Unzipping data...\")\n",
        "        zip_ref.extractall(text_path)\n"
      ]
    },
    {
      "cell_type": "code",
      "execution_count": null,
      "metadata": {
        "id": "R9wXccWfaUi9"
      },
      "outputs": [],
      "source": [
        "import os\n",
        "def walk_through_dir(dir_path):\n",
        "  \"\"\"\n",
        "  Walks through dir_path returning its contents.\n",
        "  Args:\n",
        "    dir_path (str or pathlib.Path): target directory\n",
        "\n",
        "  Returns:\n",
        "    A print out of:\n",
        "      number of subdiretories in dir_path\n",
        "      number of articles (files) in each subdirectory\n",
        "      name of each subdirectory\n",
        "  \"\"\"\n",
        "  for dirpath, dirnames, filenames in os.walk(dir_path):\n",
        "    print(f\"There are {len(dirnames)} directories and {len(filenames)} article in '{dirpath}'.\")"
      ]
    },
    {
      "cell_type": "code",
      "execution_count": null,
      "metadata": {
        "colab": {
          "base_uri": "https://localhost:8080/"
        },
        "id": "TbONzp4qUo3x",
        "outputId": "1e78f945-f7ac-4aa1-ad74-8bdf4d1dd6f8"
      },
      "outputs": [
        {
          "output_type": "stream",
          "name": "stdout",
          "text": [
            "There are 1 directories and 0 article in 'data/bbc'.\n",
            "There are 2 directories and 0 article in 'data/bbc/bbc'.\n",
            "There are 5 directories and 0 article in 'data/bbc/bbc/train'.\n",
            "There are 0 directories and 333 article in 'data/bbc/bbc/train/politics'.\n",
            "There are 0 directories and 320 article in 'data/bbc/bbc/train/tech'.\n",
            "There are 0 directories and 408 article in 'data/bbc/bbc/train/business'.\n",
            "There are 0 directories and 408 article in 'data/bbc/bbc/train/sport'.\n",
            "There are 0 directories and 308 article in 'data/bbc/bbc/train/entertainment'.\n",
            "There are 5 directories and 0 article in 'data/bbc/bbc/test'.\n",
            "There are 0 directories and 84 article in 'data/bbc/bbc/test/politics'.\n",
            "There are 0 directories and 81 article in 'data/bbc/bbc/test/tech'.\n",
            "There are 0 directories and 102 article in 'data/bbc/bbc/test/business'.\n",
            "There are 0 directories and 103 article in 'data/bbc/bbc/test/sport'.\n",
            "There are 0 directories and 78 article in 'data/bbc/bbc/test/entertainment'.\n"
          ]
        }
      ],
      "source": [
        "walk_through_dir(text_path)"
      ]
    },
    {
      "cell_type": "code",
      "execution_count": null,
      "metadata": {
        "colab": {
          "base_uri": "https://localhost:8080/"
        },
        "id": "sImXqL9TUo0f",
        "outputId": "5abeb5fe-9ee9-44d1-9cf5-c6ce7653cfb8"
      },
      "outputs": [
        {
          "output_type": "execute_result",
          "data": {
            "text/plain": [
              "(PosixPath('data/bbc/bbc/train'), PosixPath('data/bbc/bbc/test'))"
            ]
          },
          "metadata": {},
          "execution_count": 54
        }
      ],
      "source": [
        "# Setup train and testing paths\n",
        "train_dir = text_path / \"bbc\" / \"train\"\n",
        "test_dir = text_path / \"bbc\" / \"test\"\n",
        "\n",
        "train_dir, test_dir"
      ]
    },
    {
      "cell_type": "code",
      "execution_count": null,
      "metadata": {
        "id": "7C8ejCKhUoxu"
      },
      "outputs": [],
      "source": [
        "!pip install nltk\n",
        "!pip install scikit-learn"
      ]
    },
    {
      "cell_type": "code",
      "execution_count": null,
      "metadata": {
        "id": "D_rm3Rj7bPVL"
      },
      "outputs": [],
      "source": [
        "import os\n",
        "\n",
        "def load_data_from_folder(folder_path):\n",
        "    categories = os.listdir(folder_path)\n",
        "    data = []\n",
        "    for category in categories:\n",
        "        category_path = os.path.join(folder_path, category)\n",
        "        for filename in os.listdir(category_path):\n",
        "            file_path = os.path.join(category_path, filename)\n",
        "            with open(file_path, 'r', encoding='utf-8') as file:\n",
        "                data.append((file.read(), category))\n",
        "    return data\n",
        "\n",
        "train_data = load_data_from_folder(train_dir)\n",
        "test_data = load_data_from_folder(test_dir)\n"
      ]
    },
    {
      "cell_type": "code",
      "execution_count": null,
      "metadata": {
        "colab": {
          "base_uri": "https://localhost:8080/",
          "height": 123
        },
        "id": "lO8ZRw6Wpc09",
        "outputId": "a6b5bd06-761b-4491-fb54-16941602362f"
      },
      "outputs": [
        {
          "output_type": "execute_result",
          "data": {
            "text/plain": [
              "'Weak dollar hits Reuters\\n\\nRevenues at media group Reuters slipped 11% during 2004, mainly due to the weakness of the dollar, the group said.\\n\\nThe company said it was optimistic about growth even as revenues slipped 11% from £3.24bn ($6.13bn) in 2003 to £2.89bn in 2004. Reuters beat profit forecasts, posting a 52% rise in profits for the year to £198m from the £130m seen a year earlier. Reuters also beat its savings target for 2004, delivering £234m of cuts. Under its three-year Fast Forward turnaround plan it had aimed to save £220m during the 12 months to 31 December.\\n\\nReuters also managed to slow a decline in underlying revenues to 5.4% from 10.2% in 2003 and cut its debt back to £160m from £610m a year earlier. The news and financial data seller said the year had begun well, adding it expected \"further gradual improvement\" in the second quarter of the year after good January sales. It added it was planning to deliver a further £105m of savings over the coming year - but said it expects to be hit with an £80m restructuring charge to pay for the cost of moving from Fleet Street to new headquarters in London at Canary Wharf. \"Improving customer relationships, more competitive products and continued strong cost discipline position us well for 2005,\" chief executive Tom Glocer said, adding the company was beginning \"to look beyond recovery to growth\".\\n'"
            ],
            "application/vnd.google.colaboratory.intrinsic+json": {
              "type": "string"
            }
          },
          "metadata": {},
          "execution_count": 57
        }
      ],
      "source": [
        "train_data[800][0]"
      ]
    },
    {
      "cell_type": "code",
      "execution_count": null,
      "metadata": {
        "id": "3KnM5Gypl2mZ"
      },
      "outputs": [],
      "source": [
        "# Lowercase the text data while preserving the structure\n",
        "train_data_lowercased = [(text.lower(), label) for text, label in train_data]\n",
        "test_data_lowercased = [(text.lower(), label) for text, label in test_data]"
      ]
    },
    {
      "cell_type": "code",
      "execution_count": null,
      "metadata": {
        "colab": {
          "base_uri": "https://localhost:8080/",
          "height": 123
        },
        "id": "LD7FUvnyi32V",
        "outputId": "136d8ddf-5d40-4589-ecba-a69475fd962f"
      },
      "outputs": [
        {
          "output_type": "execute_result",
          "data": {
            "text/plain": [
              "'weak dollar hits reuters\\n\\nrevenues at media group reuters slipped 11% during 2004, mainly due to the weakness of the dollar, the group said.\\n\\nthe company said it was optimistic about growth even as revenues slipped 11% from £3.24bn ($6.13bn) in 2003 to £2.89bn in 2004. reuters beat profit forecasts, posting a 52% rise in profits for the year to £198m from the £130m seen a year earlier. reuters also beat its savings target for 2004, delivering £234m of cuts. under its three-year fast forward turnaround plan it had aimed to save £220m during the 12 months to 31 december.\\n\\nreuters also managed to slow a decline in underlying revenues to 5.4% from 10.2% in 2003 and cut its debt back to £160m from £610m a year earlier. the news and financial data seller said the year had begun well, adding it expected \"further gradual improvement\" in the second quarter of the year after good january sales. it added it was planning to deliver a further £105m of savings over the coming year - but said it expects to be hit with an £80m restructuring charge to pay for the cost of moving from fleet street to new headquarters in london at canary wharf. \"improving customer relationships, more competitive products and continued strong cost discipline position us well for 2005,\" chief executive tom glocer said, adding the company was beginning \"to look beyond recovery to growth\".\\n'"
            ],
            "application/vnd.google.colaboratory.intrinsic+json": {
              "type": "string"
            }
          },
          "metadata": {},
          "execution_count": 59
        }
      ],
      "source": [
        "train_data_lowercased[800][0]"
      ]
    },
    {
      "cell_type": "code",
      "execution_count": null,
      "metadata": {
        "colab": {
          "base_uri": "https://localhost:8080/"
        },
        "id": "DgEtsJ83g-84",
        "outputId": "f6bee0d1-8585-44b6-fb09-6976bbad285e"
      },
      "outputs": [
        {
          "output_type": "stream",
          "name": "stderr",
          "text": [
            "[nltk_data] Downloading package punkt to /root/nltk_data...\n",
            "[nltk_data]   Package punkt is already up-to-date!\n"
          ]
        }
      ],
      "source": [
        "import nltk\n",
        "nltk.download('punkt')\n",
        "\n",
        "from nltk.tokenize import word_tokenize\n",
        "\n",
        "# Tokenize the lowercased data\n",
        "train_tokens = [(word_tokenize(text), label) for text, label in train_data_lowercased]\n",
        "test_tokens = [(word_tokenize(text), label) for text, label in test_data_lowercased]\n"
      ]
    },
    {
      "cell_type": "code",
      "execution_count": null,
      "metadata": {
        "id": "3_5wia7_pXXh"
      },
      "outputs": [],
      "source": [
        "train_tokens[800][0]"
      ]
    },
    {
      "cell_type": "code",
      "execution_count": null,
      "metadata": {
        "colab": {
          "base_uri": "https://localhost:8080/"
        },
        "id": "6Mi_3Sm1g-tA",
        "outputId": "f1ec0438-96fd-4f61-e7bc-25297f1edfc1"
      },
      "outputs": [
        {
          "output_type": "stream",
          "name": "stderr",
          "text": [
            "[nltk_data] Downloading package stopwords to /root/nltk_data...\n",
            "[nltk_data]   Package stopwords is already up-to-date!\n"
          ]
        }
      ],
      "source": [
        "nltk.download('stopwords')\n",
        "\n",
        "from nltk.corpus import stopwords\n",
        "\n",
        "# Get the list of stopwords\n",
        "stop_words = set(stopwords.words('english'))\n",
        "\n",
        "# Function to remove stopwords from tokenized data\n",
        "def remove_stopwords(tokens):\n",
        "    return [word for word in tokens if word not in stop_words]\n",
        "\n",
        "# Remove stopwords from tokenized data\n",
        "train_tokens_no_stopwords = [(remove_stopwords(tokens), label) for tokens, label in train_tokens]\n",
        "test_tokens_no_stopwords = [(remove_stopwords(tokens), label) for tokens, label in test_tokens]\n"
      ]
    },
    {
      "cell_type": "code",
      "execution_count": null,
      "metadata": {
        "id": "fDnIhh1OpwU_"
      },
      "outputs": [],
      "source": [
        "train_tokens_no_stopwords[800][0]"
      ]
    },
    {
      "cell_type": "code",
      "execution_count": null,
      "metadata": {
        "id": "q5YZKe4Dq-60"
      },
      "outputs": [],
      "source": [
        "import re\n",
        "\n",
        "# Function to remove special characters from a list of strings\n",
        "def remove_special_characters(texts):\n",
        "    cleaned_texts = []\n",
        "    # Define the pattern to match special characters\n",
        "    pattern = r'[^a-zA-Z\\s]'\n",
        "    for text in texts:\n",
        "        cleaned_text = re.sub(pattern, '', text).strip()\n",
        "        if cleaned_text:  # Check if the cleaned text is not empty\n",
        "            cleaned_texts.append(cleaned_text)\n",
        "    return cleaned_texts\n",
        "\n",
        "train_data_f = [(remove_special_characters(text), label) for text, label in train_tokens_no_stopwords]\n",
        "test_data_f = [(remove_special_characters(text), label) for text, label in test_tokens_no_stopwords]"
      ]
    },
    {
      "cell_type": "code",
      "execution_count": null,
      "metadata": {
        "colab": {
          "base_uri": "https://localhost:8080/",
          "height": 36
        },
        "id": "rbMWZvMBrdJc",
        "outputId": "c8a54bae-2ac2-43c6-a8a5-3ecb34e6c813"
      },
      "outputs": [
        {
          "output_type": "execute_result",
          "data": {
            "text/plain": [
              "'business'"
            ],
            "application/vnd.google.colaboratory.intrinsic+json": {
              "type": "string"
            }
          },
          "metadata": {},
          "execution_count": 65
        }
      ],
      "source": [
        "train_data_f[800][1]"
      ]
    },
    {
      "cell_type": "code",
      "execution_count": null,
      "metadata": {
        "id": "WzxuNnB6wzCj"
      },
      "outputs": [],
      "source": []
    },
    {
      "cell_type": "code",
      "execution_count": null,
      "metadata": {
        "colab": {
          "base_uri": "https://localhost:8080/"
        },
        "id": "x6Egx5InhDqK",
        "outputId": "4813cf11-75dd-44f9-9201-cb5140b2ddec"
      },
      "outputs": [
        {
          "output_type": "execute_result",
          "data": {
            "text/plain": [
              "['business', 'entertainment', 'politics', 'sport', 'tech']"
            ]
          },
          "metadata": {},
          "execution_count": 66
        }
      ],
      "source": [
        "# Get class names as a list\n",
        "a = [label for text,label in train_data_f]\n",
        "class_names = list(dict.fromkeys(sorted(a)))\n",
        "class_names"
      ]
    },
    {
      "cell_type": "code",
      "execution_count": null,
      "metadata": {
        "colab": {
          "base_uri": "https://localhost:8080/"
        },
        "id": "KMivp4plg_ZP",
        "outputId": "088b96b1-b5a8-4f36-f6ec-e6d4c19e46df"
      },
      "outputs": [
        {
          "output_type": "execute_result",
          "data": {
            "text/plain": [
              "{'business': 0, 'entertainment': 1, 'politics': 2, 'sport': 3, 'tech': 4}"
            ]
          },
          "metadata": {},
          "execution_count": 67
        }
      ],
      "source": [
        "# Can also get class names as a dict\n",
        "class_names_dict = {label: index for index, label in enumerate(sorted(set(label for _, label in train_data_f)))}\n",
        "\n",
        "class_names_dict"
      ]
    },
    {
      "cell_type": "code",
      "execution_count": null,
      "metadata": {
        "colab": {
          "base_uri": "https://localhost:8080/"
        },
        "id": "BLK45G6zhERc",
        "outputId": "33a45fef-4c60-4d9c-da29-b855740ef027"
      },
      "outputs": [
        {
          "output_type": "execute_result",
          "data": {
            "text/plain": [
              "(1777, 448)"
            ]
          },
          "metadata": {},
          "execution_count": 68
        }
      ],
      "source": [
        "# Check the lengths\n",
        "len(train_data_f), len(test_data_f)"
      ]
    },
    {
      "cell_type": "code",
      "execution_count": null,
      "metadata": {
        "id": "x6j8nFuQ5hcF"
      },
      "outputs": [],
      "source": [
        "import torch\n",
        "import torch.nn as nn\n",
        "import torch.optim as optim\n",
        "\n",
        "\n",
        "# Create vocabulary and label mapping\n",
        "all_tokens = [token for tokens, _ in train_data_f + test_data_f for token in tokens]\n",
        "vocab = {token: index for index, token in enumerate(set(all_tokens))}\n",
        "label_vocab = {label: index for index, label in enumerate(sorted(set(label for _, label in train_data_f)))}\n",
        "\n",
        "# Convert tokenized text to numericalized tensors\n",
        "numericalized_texts = [[vocab[token] for token in tokens] for tokens, _ in train_data_f]\n",
        "numericalized_labels = [label_vocab[label] for _, label in train_data_f]\n",
        "\n",
        "# Define the model\n",
        "class Model(nn.Module):\n",
        "    def __init__(self, vocab_size, embedding_dim, hidden_dim, output_dim):\n",
        "        super(Model, self).__init__()\n",
        "        self.embedding = nn.EmbeddingBag(vocab_size, embedding_dim, mode='mean')\n",
        "        self.fc1 = nn.Linear(embedding_dim, hidden_dim)\n",
        "        self.fc2 = nn.Linear(hidden_dim, hidden_dim)\n",
        "        self.fc5 = nn.Linear(hidden_dim, output_dim)\n",
        "        self.fc3 = nn.ReLU()\n",
        "        self.fc4 = nn.Dropout(p=0.3)\n",
        "\n",
        "    def forward(self, text):\n",
        "        embedded = self.embedding(text)\n",
        "        x=self.fc1(embedded)\n",
        "        x=self.fc3(x)\n",
        "        x=self.fc4(x)\n",
        "        x=self.fc2(x)\n",
        "        x=self.fc3(x)\n",
        "        x=self.fc4(x)\n",
        "        x=self.fc5(x)\n",
        "        return x\n",
        "\n",
        "# Initialize the model\n",
        "model = Model(vocab_size=len(vocab), embedding_dim=100, hidden_dim=128, output_dim=len(label_vocab))\n"
      ]
    },
    {
      "cell_type": "code",
      "source": [
        "len(vocab)"
      ],
      "metadata": {
        "colab": {
          "base_uri": "https://localhost:8080/"
        },
        "id": "iHm97Nwe0G9h",
        "outputId": "20950648-ff67-427f-e9c4-7d851c5fe8dd"
      },
      "execution_count": null,
      "outputs": [
        {
          "output_type": "execute_result",
          "data": {
            "text/plain": [
              "30239"
            ]
          },
          "metadata": {},
          "execution_count": 84
        }
      ]
    },
    {
      "cell_type": "code",
      "source": [
        "len(label_vocab)"
      ],
      "metadata": {
        "colab": {
          "base_uri": "https://localhost:8080/"
        },
        "id": "3JJem-Hz0Jt8",
        "outputId": "78c07f59-4ea9-440b-971f-3d2a1f6af73d"
      },
      "execution_count": null,
      "outputs": [
        {
          "output_type": "execute_result",
          "data": {
            "text/plain": [
              "5"
            ]
          },
          "metadata": {},
          "execution_count": 85
        }
      ]
    },
    {
      "cell_type": "code",
      "source": [
        "from tqdm.auto import tqdm\n",
        "\n",
        "# Loss function and optimizer\n",
        "criterion = nn.CrossEntropyLoss()\n",
        "optimizer = optim.Adam(model.parameters())\n",
        "\n",
        "epochs = 10\n",
        "# Training loop\n",
        "for epoch in tqdm(range(epochs)):\n",
        "    running_loss = 0.0\n",
        "    for text, label in zip(numericalized_texts, numericalized_labels):\n",
        "        optimizer.zero_grad()\n",
        "        text = torch.tensor(text, dtype=torch.long)\n",
        "        output = model(text.unsqueeze(0))\n",
        "        loss = criterion(output, torch.tensor([label], dtype=torch.long))\n",
        "        loss.backward()\n",
        "        optimizer.step()\n",
        "\n",
        "        running_loss += loss.item()\n",
        "    print(f\"Epoch {epoch+1}, Loss: {running_loss / len(train_data)}\")"
      ],
      "metadata": {
        "colab": {
          "base_uri": "https://localhost:8080/",
          "height": 223,
          "referenced_widgets": [
            "3b3edda71e4e4be3b7702b6d65675537",
            "94d87349f13f4603af06e92f38e04a0e",
            "493f1590bdcc41379bfc79b7fd4d2f05",
            "fb199b22bca9403e9e67660602515a77",
            "d401e64e8e8741879c5759b6b01d058d",
            "7622e976bb1f44b88842c252258b4a21",
            "94fb047c1ae54a23baaf0094b1d70863",
            "6364653223bf4a3ca7055cfd937c06c7",
            "946c33c5652341eba4db332bdf6f7c57",
            "18268c3aee78415bbb9f95dc03bbc943",
            "93910d0ddc5e4ab5a65e89fa75e07b62"
          ]
        },
        "id": "49rYqwhZkuJ8",
        "outputId": "106edb62-5331-46de-9467-69e586ee482d"
      },
      "execution_count": null,
      "outputs": [
        {
          "output_type": "display_data",
          "data": {
            "text/plain": [
              "  0%|          | 0/10 [00:00<?, ?it/s]"
            ],
            "application/vnd.jupyter.widget-view+json": {
              "version_major": 2,
              "version_minor": 0,
              "model_id": "3b3edda71e4e4be3b7702b6d65675537"
            }
          },
          "metadata": {}
        },
        {
          "output_type": "stream",
          "name": "stdout",
          "text": [
            "Epoch 1, Loss: 0.5903455453967003\n",
            "Epoch 2, Loss: 0.41815353043278813\n",
            "Epoch 3, Loss: 0.20901931908118263\n",
            "Epoch 4, Loss: 0.0880535503229168\n",
            "Epoch 5, Loss: 0.0424029736468469\n",
            "Epoch 6, Loss: 0.02051249118820532\n",
            "Epoch 7, Loss: 0.024568708957248133\n",
            "Epoch 8, Loss: 0.015426318408975884\n",
            "Epoch 9, Loss: 0.0037331727075466214\n",
            "Epoch 10, Loss: 0.00012205823438959998\n"
          ]
        }
      ]
    },
    {
      "cell_type": "code",
      "execution_count": null,
      "metadata": {
        "colab": {
          "base_uri": "https://localhost:8080/"
        },
        "id": "VAEh4_yY0dPL",
        "outputId": "44e14c14-f235-4793-b0b0-e2d744add1c8"
      },
      "outputs": [
        {
          "output_type": "stream",
          "name": "stdout",
          "text": [
            "Test Accuracy: 96.21%\n"
          ]
        }
      ],
      "source": [
        "# Test loop\n",
        "model.eval()\n",
        "\n",
        "correct_predictions = 0\n",
        "total_samples = len(test_data_f)\n",
        "\n",
        "with torch.no_grad():\n",
        "    for text, label in test_data_f:\n",
        "        text = torch.tensor([vocab[token] for token in text], dtype=torch.long)\n",
        "        output = model(text.unsqueeze(0))\n",
        "        predicted_label = torch.argmax(output).item()\n",
        "        true_label = label_vocab[label]\n",
        "\n",
        "        if predicted_label == true_label:\n",
        "            correct_predictions += 1\n",
        "\n",
        "accuracy = correct_predictions / total_samples\n",
        "print(f\"Test Accuracy: {accuracy * 100:.2f}%\")\n"
      ]
    },
    {
      "cell_type": "code",
      "execution_count": null,
      "metadata": {
        "id": "-BgZoKCSbPRt"
      },
      "outputs": [],
      "source": [
        "import torch\n",
        "import torch.nn.functional as F\n",
        "\n",
        "def predict_topic(model, article, vocab, label_vocab):\n",
        "    # Tokenize the article\n",
        "    text = article.lower()\n",
        "    text = word_tokenize(text)\n",
        "    text = remove_stopwords(text)\n",
        "    text = remove_special_characters(text)\n",
        "\n",
        "    # Filter out unknown words\n",
        "    text = [token for token in text if token in vocab]\n",
        "\n",
        "    # Convert tokens to numericalized tensor\n",
        "    numericalized_tokens = torch.tensor(\n",
        "        [vocab[token] for token in text], dtype=torch.long)\n",
        "\n",
        "    # Check if there are any tokens left after filtering out unknown words\n",
        "    if len(numericalized_tokens) == 0:\n",
        "        raise ValueError(\"All words in the article are unknown to the model.\")\n",
        "\n",
        "    # Pass the tensor through the model\n",
        "    model.eval()\n",
        "    with torch.no_grad():\n",
        "        output = model(numericalized_tokens.unsqueeze(0))\n",
        "\n",
        "    # Interpret the model's output\n",
        "    predicted_class_index = torch.argmax(output).item()\n",
        "    predicted_topic = list(label_vocab.keys())[list(\n",
        "        label_vocab.values()).index(predicted_class_index)]\n",
        "\n",
        "    return predicted_topic\n"
      ]
    },
    {
      "cell_type": "code",
      "execution_count": null,
      "metadata": {
        "colab": {
          "base_uri": "https://localhost:8080/"
        },
        "id": "zrAGHrMzbPPa",
        "outputId": "e6641d4f-1bfe-490d-af1a-23886f9ff083"
      },
      "outputs": [
        {
          "output_type": "stream",
          "name": "stdout",
          "text": [
            "Predicted Topic: business\n"
          ]
        }
      ],
      "source": [
        "\n",
        "article = \"DaimlerChrysler's 2004 sales rise\\nUS-German carmaker DaimlerChrysler has sold 2.1% more cars in 2004 than in the previous year, as solid Chrysler sales offset a weak showing for Mercedes.\\nSales totalled 3.9 million units worldwide during 2004, the company said at the Detroit Motor Show. A switch to new models hit luxury marque Mercedes-Benz, with sales down 3.1% at 1.06 million. Chrysler avoided the fate of US rivals Ford and General Motors, both of whom lost ground to Japanese firms. Its sales rose 3.5% to 2.7 million units.\\nSimilarly on the up was the Smart brand of compact cars, with the division's sales jumping by 21.1% during 2004 to 136,000. The future of the brand - which is controlled by the Mercedes group within DaimlerChrysler - remains in question, however. Smart has consistently lost money since it started trading in 1998, and new model launches are now 'on hold', said Mercedes chief executive Eckhard Cordes. In Europe, the Smart will now go on sale through regular Mercedes dealerships as well as its own dealer network, Mr Cordes said.\"\n",
        "\n",
        "predicted_topic = predict_topic(model, vocab, label_vocab, article)\n",
        "print(f\"Predicted Topic: {predicted_topic}\")\n"
      ]
    },
    {
      "cell_type": "code",
      "execution_count": null,
      "metadata": {
        "id": "xI9UbNDzTtRk"
      },
      "outputs": [],
      "source": []
    },
    {
      "cell_type": "code",
      "source": [],
      "metadata": {
        "id": "KM1TWUMWkgGA"
      },
      "execution_count": null,
      "outputs": []
    },
    {
      "cell_type": "code",
      "source": [],
      "metadata": {
        "id": "1XxoNKsSkf8r"
      },
      "execution_count": null,
      "outputs": []
    },
    {
      "cell_type": "code",
      "source": [
        "#save the model\n",
        "torch.save(model.state_dict(), 'model_weights.pth')"
      ],
      "metadata": {
        "id": "tri1Akpdkf5H"
      },
      "execution_count": null,
      "outputs": []
    },
    {
      "cell_type": "code",
      "source": [
        "import pickle\n",
        "\n",
        "# save vocab and label_vocab\n",
        "with open('vocab_data.pkl', 'wb') as fp:\n",
        "    pickle.dump(vocab, fp)\n",
        "    print('dictionary saved successfully to file')\n",
        "\n",
        "with open('label_vocab_data.pkl', 'wb') as fp:\n",
        "    pickle.dump(label_vocab, fp)\n",
        "    print('dictionary saved successfully to file')"
      ],
      "metadata": {
        "colab": {
          "base_uri": "https://localhost:8080/"
        },
        "id": "4OaPtMT3tp-n",
        "outputId": "8d433336-c904-40f1-8723-219ec5791bd1"
      },
      "execution_count": null,
      "outputs": [
        {
          "output_type": "stream",
          "name": "stdout",
          "text": [
            "dictionary saved successfully to file\n",
            "dictionary saved successfully to file\n"
          ]
        }
      ]
    }
  ],
  "metadata": {
    "colab": {
      "provenance": []
    },
    "kernelspec": {
      "display_name": "Python 3",
      "name": "python3"
    },
    "language_info": {
      "name": "python"
    },
    "widgets": {
      "application/vnd.jupyter.widget-state+json": {
        "3b3edda71e4e4be3b7702b6d65675537": {
          "model_module": "@jupyter-widgets/controls",
          "model_name": "HBoxModel",
          "model_module_version": "1.5.0",
          "state": {
            "_dom_classes": [],
            "_model_module": "@jupyter-widgets/controls",
            "_model_module_version": "1.5.0",
            "_model_name": "HBoxModel",
            "_view_count": null,
            "_view_module": "@jupyter-widgets/controls",
            "_view_module_version": "1.5.0",
            "_view_name": "HBoxView",
            "box_style": "",
            "children": [
              "IPY_MODEL_94d87349f13f4603af06e92f38e04a0e",
              "IPY_MODEL_493f1590bdcc41379bfc79b7fd4d2f05",
              "IPY_MODEL_fb199b22bca9403e9e67660602515a77"
            ],
            "layout": "IPY_MODEL_d401e64e8e8741879c5759b6b01d058d"
          }
        },
        "94d87349f13f4603af06e92f38e04a0e": {
          "model_module": "@jupyter-widgets/controls",
          "model_name": "HTMLModel",
          "model_module_version": "1.5.0",
          "state": {
            "_dom_classes": [],
            "_model_module": "@jupyter-widgets/controls",
            "_model_module_version": "1.5.0",
            "_model_name": "HTMLModel",
            "_view_count": null,
            "_view_module": "@jupyter-widgets/controls",
            "_view_module_version": "1.5.0",
            "_view_name": "HTMLView",
            "description": "",
            "description_tooltip": null,
            "layout": "IPY_MODEL_7622e976bb1f44b88842c252258b4a21",
            "placeholder": "​",
            "style": "IPY_MODEL_94fb047c1ae54a23baaf0094b1d70863",
            "value": "100%"
          }
        },
        "493f1590bdcc41379bfc79b7fd4d2f05": {
          "model_module": "@jupyter-widgets/controls",
          "model_name": "FloatProgressModel",
          "model_module_version": "1.5.0",
          "state": {
            "_dom_classes": [],
            "_model_module": "@jupyter-widgets/controls",
            "_model_module_version": "1.5.0",
            "_model_name": "FloatProgressModel",
            "_view_count": null,
            "_view_module": "@jupyter-widgets/controls",
            "_view_module_version": "1.5.0",
            "_view_name": "ProgressView",
            "bar_style": "success",
            "description": "",
            "description_tooltip": null,
            "layout": "IPY_MODEL_6364653223bf4a3ca7055cfd937c06c7",
            "max": 10,
            "min": 0,
            "orientation": "horizontal",
            "style": "IPY_MODEL_946c33c5652341eba4db332bdf6f7c57",
            "value": 10
          }
        },
        "fb199b22bca9403e9e67660602515a77": {
          "model_module": "@jupyter-widgets/controls",
          "model_name": "HTMLModel",
          "model_module_version": "1.5.0",
          "state": {
            "_dom_classes": [],
            "_model_module": "@jupyter-widgets/controls",
            "_model_module_version": "1.5.0",
            "_model_name": "HTMLModel",
            "_view_count": null,
            "_view_module": "@jupyter-widgets/controls",
            "_view_module_version": "1.5.0",
            "_view_name": "HTMLView",
            "description": "",
            "description_tooltip": null,
            "layout": "IPY_MODEL_18268c3aee78415bbb9f95dc03bbc943",
            "placeholder": "​",
            "style": "IPY_MODEL_93910d0ddc5e4ab5a65e89fa75e07b62",
            "value": " 10/10 [13:17&lt;00:00, 82.08s/it]"
          }
        },
        "d401e64e8e8741879c5759b6b01d058d": {
          "model_module": "@jupyter-widgets/base",
          "model_name": "LayoutModel",
          "model_module_version": "1.2.0",
          "state": {
            "_model_module": "@jupyter-widgets/base",
            "_model_module_version": "1.2.0",
            "_model_name": "LayoutModel",
            "_view_count": null,
            "_view_module": "@jupyter-widgets/base",
            "_view_module_version": "1.2.0",
            "_view_name": "LayoutView",
            "align_content": null,
            "align_items": null,
            "align_self": null,
            "border": null,
            "bottom": null,
            "display": null,
            "flex": null,
            "flex_flow": null,
            "grid_area": null,
            "grid_auto_columns": null,
            "grid_auto_flow": null,
            "grid_auto_rows": null,
            "grid_column": null,
            "grid_gap": null,
            "grid_row": null,
            "grid_template_areas": null,
            "grid_template_columns": null,
            "grid_template_rows": null,
            "height": null,
            "justify_content": null,
            "justify_items": null,
            "left": null,
            "margin": null,
            "max_height": null,
            "max_width": null,
            "min_height": null,
            "min_width": null,
            "object_fit": null,
            "object_position": null,
            "order": null,
            "overflow": null,
            "overflow_x": null,
            "overflow_y": null,
            "padding": null,
            "right": null,
            "top": null,
            "visibility": null,
            "width": null
          }
        },
        "7622e976bb1f44b88842c252258b4a21": {
          "model_module": "@jupyter-widgets/base",
          "model_name": "LayoutModel",
          "model_module_version": "1.2.0",
          "state": {
            "_model_module": "@jupyter-widgets/base",
            "_model_module_version": "1.2.0",
            "_model_name": "LayoutModel",
            "_view_count": null,
            "_view_module": "@jupyter-widgets/base",
            "_view_module_version": "1.2.0",
            "_view_name": "LayoutView",
            "align_content": null,
            "align_items": null,
            "align_self": null,
            "border": null,
            "bottom": null,
            "display": null,
            "flex": null,
            "flex_flow": null,
            "grid_area": null,
            "grid_auto_columns": null,
            "grid_auto_flow": null,
            "grid_auto_rows": null,
            "grid_column": null,
            "grid_gap": null,
            "grid_row": null,
            "grid_template_areas": null,
            "grid_template_columns": null,
            "grid_template_rows": null,
            "height": null,
            "justify_content": null,
            "justify_items": null,
            "left": null,
            "margin": null,
            "max_height": null,
            "max_width": null,
            "min_height": null,
            "min_width": null,
            "object_fit": null,
            "object_position": null,
            "order": null,
            "overflow": null,
            "overflow_x": null,
            "overflow_y": null,
            "padding": null,
            "right": null,
            "top": null,
            "visibility": null,
            "width": null
          }
        },
        "94fb047c1ae54a23baaf0094b1d70863": {
          "model_module": "@jupyter-widgets/controls",
          "model_name": "DescriptionStyleModel",
          "model_module_version": "1.5.0",
          "state": {
            "_model_module": "@jupyter-widgets/controls",
            "_model_module_version": "1.5.0",
            "_model_name": "DescriptionStyleModel",
            "_view_count": null,
            "_view_module": "@jupyter-widgets/base",
            "_view_module_version": "1.2.0",
            "_view_name": "StyleView",
            "description_width": ""
          }
        },
        "6364653223bf4a3ca7055cfd937c06c7": {
          "model_module": "@jupyter-widgets/base",
          "model_name": "LayoutModel",
          "model_module_version": "1.2.0",
          "state": {
            "_model_module": "@jupyter-widgets/base",
            "_model_module_version": "1.2.0",
            "_model_name": "LayoutModel",
            "_view_count": null,
            "_view_module": "@jupyter-widgets/base",
            "_view_module_version": "1.2.0",
            "_view_name": "LayoutView",
            "align_content": null,
            "align_items": null,
            "align_self": null,
            "border": null,
            "bottom": null,
            "display": null,
            "flex": null,
            "flex_flow": null,
            "grid_area": null,
            "grid_auto_columns": null,
            "grid_auto_flow": null,
            "grid_auto_rows": null,
            "grid_column": null,
            "grid_gap": null,
            "grid_row": null,
            "grid_template_areas": null,
            "grid_template_columns": null,
            "grid_template_rows": null,
            "height": null,
            "justify_content": null,
            "justify_items": null,
            "left": null,
            "margin": null,
            "max_height": null,
            "max_width": null,
            "min_height": null,
            "min_width": null,
            "object_fit": null,
            "object_position": null,
            "order": null,
            "overflow": null,
            "overflow_x": null,
            "overflow_y": null,
            "padding": null,
            "right": null,
            "top": null,
            "visibility": null,
            "width": null
          }
        },
        "946c33c5652341eba4db332bdf6f7c57": {
          "model_module": "@jupyter-widgets/controls",
          "model_name": "ProgressStyleModel",
          "model_module_version": "1.5.0",
          "state": {
            "_model_module": "@jupyter-widgets/controls",
            "_model_module_version": "1.5.0",
            "_model_name": "ProgressStyleModel",
            "_view_count": null,
            "_view_module": "@jupyter-widgets/base",
            "_view_module_version": "1.2.0",
            "_view_name": "StyleView",
            "bar_color": null,
            "description_width": ""
          }
        },
        "18268c3aee78415bbb9f95dc03bbc943": {
          "model_module": "@jupyter-widgets/base",
          "model_name": "LayoutModel",
          "model_module_version": "1.2.0",
          "state": {
            "_model_module": "@jupyter-widgets/base",
            "_model_module_version": "1.2.0",
            "_model_name": "LayoutModel",
            "_view_count": null,
            "_view_module": "@jupyter-widgets/base",
            "_view_module_version": "1.2.0",
            "_view_name": "LayoutView",
            "align_content": null,
            "align_items": null,
            "align_self": null,
            "border": null,
            "bottom": null,
            "display": null,
            "flex": null,
            "flex_flow": null,
            "grid_area": null,
            "grid_auto_columns": null,
            "grid_auto_flow": null,
            "grid_auto_rows": null,
            "grid_column": null,
            "grid_gap": null,
            "grid_row": null,
            "grid_template_areas": null,
            "grid_template_columns": null,
            "grid_template_rows": null,
            "height": null,
            "justify_content": null,
            "justify_items": null,
            "left": null,
            "margin": null,
            "max_height": null,
            "max_width": null,
            "min_height": null,
            "min_width": null,
            "object_fit": null,
            "object_position": null,
            "order": null,
            "overflow": null,
            "overflow_x": null,
            "overflow_y": null,
            "padding": null,
            "right": null,
            "top": null,
            "visibility": null,
            "width": null
          }
        },
        "93910d0ddc5e4ab5a65e89fa75e07b62": {
          "model_module": "@jupyter-widgets/controls",
          "model_name": "DescriptionStyleModel",
          "model_module_version": "1.5.0",
          "state": {
            "_model_module": "@jupyter-widgets/controls",
            "_model_module_version": "1.5.0",
            "_model_name": "DescriptionStyleModel",
            "_view_count": null,
            "_view_module": "@jupyter-widgets/base",
            "_view_module_version": "1.2.0",
            "_view_name": "StyleView",
            "description_width": ""
          }
        }
      }
    }
  },
  "nbformat": 4,
  "nbformat_minor": 0
}